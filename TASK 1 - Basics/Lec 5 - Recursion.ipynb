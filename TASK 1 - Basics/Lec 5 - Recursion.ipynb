{
 "cells": [
  {
   "cell_type": "markdown",
   "metadata": {},
   "source": [
    "# Lec 5 - Recursion"
   ]
  },
  {
   "cell_type": "code",
   "execution_count": 3,
   "metadata": {},
   "outputs": [
    {
     "name": "stdout",
     "output_type": "stream",
     "text": [
      "Tanush\n",
      "Tanush\n",
      "Tanush\n",
      "Tanush\n",
      "Tanush\n"
     ]
    }
   ],
   "source": [
    "# Problem 1\n",
    "# Print your name n times using recursion\n",
    "\n",
    "def printName(n):\n",
    "    if n > 0:\n",
    "        print(\"Tanush\")\n",
    "    else:\n",
    "        return 0\n",
    "    printName(n-1)\n",
    "\n",
    "printName(5)"
   ]
  },
  {
   "cell_type": "code",
   "execution_count": 16,
   "metadata": {},
   "outputs": [
    {
     "name": "stdout",
     "output_type": "stream",
     "text": [
      "1\n",
      "2\n",
      "3\n",
      "4\n",
      "5\n"
     ]
    }
   ],
   "source": [
    "# Problem 2\n",
    "# Print 1 to n using recursion\n",
    "\n",
    "def printNumbers(n,i=1):\n",
    "    if i > n:\n",
    "        return 0\n",
    "    else:\n",
    "        print(i)\n",
    "        printNumbers(n,i+1)\n",
    "\n",
    "printNumbers(5)"
   ]
  },
  {
   "cell_type": "code",
   "execution_count": 9,
   "metadata": {},
   "outputs": [
    {
     "name": "stdout",
     "output_type": "stream",
     "text": [
      "5\n",
      "4\n",
      "3\n",
      "2\n",
      "1\n"
     ]
    }
   ],
   "source": [
    "# Problem 3\n",
    "# Print 1 to n in reverse using recursion\n",
    "\n",
    "def printNumbersinReverse(n):\n",
    "    if n > 0:\n",
    "        print(n)\n",
    "    else:\n",
    "        return 0\n",
    "    printNumbersinReverse(n-1)\n",
    "\n",
    "printNumbersinReverse(5)"
   ]
  },
  {
   "cell_type": "code",
   "execution_count": 26,
   "metadata": {},
   "outputs": [
    {
     "data": {
      "text/plain": [
       "55"
      ]
     },
     "execution_count": 26,
     "metadata": {},
     "output_type": "execute_result"
    }
   ],
   "source": [
    "# Problem 4\n",
    "# Sum of first n numbers using recursion\n",
    "\n",
    "def sumOfNumbers(n):\n",
    "    if n <= 0:\n",
    "        return 0\n",
    "    else:\n",
    "        return n + sumOfNumbers(n-1)\n",
    "\n",
    "sumOfNumbers(10)"
   ]
  },
  {
   "cell_type": "code",
   "execution_count": 27,
   "metadata": {},
   "outputs": [
    {
     "data": {
      "text/plain": [
       "120"
      ]
     },
     "execution_count": 27,
     "metadata": {},
     "output_type": "execute_result"
    }
   ],
   "source": [
    "# Problem 5\n",
    "# Factorial of n numbers using recursion\n",
    "\n",
    "def factorial(n):\n",
    "    if n <= 1:\n",
    "        return 1\n",
    "    else:\n",
    "        fact = n * factorial(n-1)\n",
    "        return fact\n",
    "\n",
    "factorial(5)"
   ]
  },
  {
   "cell_type": "code",
   "execution_count": null,
   "metadata": {},
   "outputs": [],
   "source": [
    "# Problem 6\n",
    "# Reverse an array using recursion"
   ]
  },
  {
   "cell_type": "code",
   "execution_count": null,
   "metadata": {},
   "outputs": [],
   "source": [
    "# Problem 7\n",
    "# Check if a string is palindrome or not"
   ]
  },
  {
   "cell_type": "code",
   "execution_count": null,
   "metadata": {},
   "outputs": [],
   "source": [
    "# Problem 8\n",
    "# Fibonacci series using recursion"
   ]
  }
 ],
 "metadata": {
  "kernelspec": {
   "display_name": "Python 3",
   "language": "python",
   "name": "python3"
  },
  "language_info": {
   "codemirror_mode": {
    "name": "ipython",
    "version": 3
   },
   "file_extension": ".py",
   "mimetype": "text/x-python",
   "name": "python",
   "nbconvert_exporter": "python",
   "pygments_lexer": "ipython3",
   "version": "3.12.3"
  }
 },
 "nbformat": 4,
 "nbformat_minor": 2
}
