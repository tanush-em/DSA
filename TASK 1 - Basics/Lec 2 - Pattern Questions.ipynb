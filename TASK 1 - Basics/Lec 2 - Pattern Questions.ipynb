{
 "cells": [
  {
   "cell_type": "markdown",
   "metadata": {},
   "source": [
    "# Lec 2 - Pattern Based Questions"
   ]
  },
  {
   "cell_type": "code",
   "execution_count": 16,
   "metadata": {},
   "outputs": [
    {
     "name": "stdout",
     "output_type": "stream",
     "text": [
      "****\n",
      "\n",
      "****\n",
      "\n",
      "****\n",
      "\n",
      "****\n",
      "\n"
     ]
    },
    {
     "data": {
      "text/plain": [
       "0"
      ]
     },
     "execution_count": 16,
     "metadata": {},
     "output_type": "execute_result"
    }
   ],
   "source": [
    "# Pattern 1\n",
    "\n",
    "def pattern1(n):\n",
    "    for i in range(n):\n",
    "        for j in range(n):\n",
    "           print(\"*\", end='')\n",
    "        print(\"\\n\")\n",
    "    return 0\n",
    "\n",
    "n = 4\n",
    "pattern1(n)"
   ]
  },
  {
   "cell_type": "code",
   "execution_count": 19,
   "metadata": {},
   "outputs": [
    {
     "name": "stdout",
     "output_type": "stream",
     "text": [
      "\n",
      "\n",
      "*\n",
      "\n",
      "**\n",
      "\n",
      "***\n",
      "\n",
      "****\n",
      "\n",
      "*****\n",
      "\n"
     ]
    },
    {
     "data": {
      "text/plain": [
       "0"
      ]
     },
     "execution_count": 19,
     "metadata": {},
     "output_type": "execute_result"
    }
   ],
   "source": [
    "# Pattern 2\n",
    "\n",
    "def pattern2(n):\n",
    "    for i in range(n+1):\n",
    "        for j in range(i):\n",
    "            print(\"*\", end='')\n",
    "        print(\"\\n\")\n",
    "    return 0\n",
    "\n",
    "n = 5\n",
    "pattern2(n)"
   ]
  },
  {
   "cell_type": "code",
   "execution_count": 23,
   "metadata": {},
   "outputs": [
    {
     "name": "stdout",
     "output_type": "stream",
     "text": [
      "\n",
      "\n",
      "1\n",
      "\n",
      "12\n",
      "\n",
      "123\n",
      "\n",
      "1234\n",
      "\n",
      "12345\n",
      "\n"
     ]
    },
    {
     "data": {
      "text/plain": [
       "0"
      ]
     },
     "execution_count": 23,
     "metadata": {},
     "output_type": "execute_result"
    }
   ],
   "source": [
    "# Pattern 3\n",
    "\n",
    "def pattern3(n):\n",
    "    for i in range(n+1):\n",
    "        for j in range(i):\n",
    "            print(j+1, end='')\n",
    "        print(\"\\n\")\n",
    "    return 0\n",
    "\n",
    "n = 5\n",
    "pattern3(n)"
   ]
  },
  {
   "cell_type": "code",
   "execution_count": 29,
   "metadata": {},
   "outputs": [
    {
     "name": "stdout",
     "output_type": "stream",
     "text": [
      "*****\n",
      "\n",
      "****\n",
      "\n",
      "***\n",
      "\n",
      "**\n",
      "\n",
      "*\n",
      "\n",
      "\n",
      "\n"
     ]
    },
    {
     "data": {
      "text/plain": [
       "0"
      ]
     },
     "execution_count": 29,
     "metadata": {},
     "output_type": "execute_result"
    }
   ],
   "source": [
    "# Pattern 4\n",
    "\n",
    "def pattern4(n):\n",
    "    for i in range(n+1):\n",
    "        for j in range(n-i):\n",
    "            print(\"*\", end='')\n",
    "        print(\"\\n\")\n",
    "    return 0\n",
    "\n",
    "n = 5\n",
    "pattern4(n)"
   ]
  },
  {
   "cell_type": "code",
   "execution_count": 39,
   "metadata": {},
   "outputs": [
    {
     "name": "stdout",
     "output_type": "stream",
     "text": [
      "     *     \n",
      "\n",
      "    ***    \n",
      "\n",
      "   *****   \n",
      "\n",
      "  *******  \n",
      "\n",
      " ********* \n",
      "\n"
     ]
    },
    {
     "data": {
      "text/plain": [
       "0"
      ]
     },
     "execution_count": 39,
     "metadata": {},
     "output_type": "execute_result"
    }
   ],
   "source": [
    "# Pattern 5\n",
    "\n",
    "def pattern5(n):\n",
    "    for i in range(n+1):\n",
    "        for j in range(n-i+1):\n",
    "            print(\" \",end='')  \n",
    "        for j in range((2*i)+1):\n",
    "            print(\"*\", end='')   \n",
    "        for j in range(n-i+1):\n",
    "            print(\" \",end='') \n",
    "        print(\"\\n\")\n",
    "    return 0 \n",
    "\n",
    "n = 4\n",
    "pattern5(n)"
   ]
  },
  {
   "cell_type": "code",
   "execution_count": 40,
   "metadata": {},
   "outputs": [
    {
     "name": "stdout",
     "output_type": "stream",
     "text": [
      "*******\n",
      "\n",
      " ***** \n",
      "\n",
      "  ***  \n",
      "\n",
      "   *   \n",
      "\n",
      "        \n",
      "\n"
     ]
    },
    {
     "data": {
      "text/plain": [
       "0"
      ]
     },
     "execution_count": 40,
     "metadata": {},
     "output_type": "execute_result"
    }
   ],
   "source": [
    "# Pattern 6\n",
    "\n",
    "def pattern6(n):\n",
    "    for i in range(n+1):\n",
    "        for j in range(i):\n",
    "            print(\" \",end='')  \n",
    "        for j in range((2*(n-i))-1):\n",
    "            print(\"*\", end='')   \n",
    "        for j in range(i):\n",
    "            print(\" \",end='') \n",
    "        print(\"\\n\")\n",
    "    return 0 \n",
    "\n",
    "n = 4\n",
    "pattern6(n)"
   ]
  },
  {
   "cell_type": "code",
   "execution_count": 42,
   "metadata": {},
   "outputs": [
    {
     "name": "stdout",
     "output_type": "stream",
     "text": [
      "    *    \n",
      "\n",
      "   ***   \n",
      "\n",
      "  *****  \n",
      "\n",
      " ******* \n",
      "\n",
      "*****\n",
      "\n",
      " *** \n",
      "\n",
      "  *  \n",
      "\n",
      "      \n",
      "\n"
     ]
    },
    {
     "data": {
      "text/plain": [
       "0"
      ]
     },
     "execution_count": 42,
     "metadata": {},
     "output_type": "execute_result"
    }
   ],
   "source": [
    "# Pattern 7\n",
    "\n",
    "def pattern5(n):\n",
    "    for i in range(n+1):\n",
    "        for j in range(n-i+1):\n",
    "            print(\" \",end='')  \n",
    "        for j in range((2*i)+1):\n",
    "            print(\"*\", end='')   \n",
    "        for j in range(n-i+1):\n",
    "            print(\" \",end='') \n",
    "        print(\"\\n\")\n",
    "    return 0 \n",
    "\n",
    "def pattern6(n):\n",
    "    for i in range(n+1):\n",
    "        for j in range(i):\n",
    "            print(\" \",end='')  \n",
    "        for j in range((2*(n-i))-1):\n",
    "            print(\"*\", end='')   \n",
    "        for j in range(i):\n",
    "            print(\" \",end='') \n",
    "        print(\"\\n\")\n",
    "    return 0 \n",
    "\n",
    "n = 3\n",
    "pattern5(n)\n",
    "pattern6(n)"
   ]
  },
  {
   "cell_type": "code",
   "execution_count": 54,
   "metadata": {},
   "outputs": [
    {
     "name": "stdout",
     "output_type": "stream",
     "text": [
      "*\n",
      "\n",
      "**\n",
      "\n",
      "***\n",
      "\n",
      "****\n",
      "\n",
      "*****\n",
      "\n",
      "******\n",
      "\n",
      "****\n",
      "\n",
      "***\n",
      "\n",
      "**\n",
      "\n"
     ]
    },
    {
     "data": {
      "text/plain": [
       "0"
      ]
     },
     "execution_count": 54,
     "metadata": {},
     "output_type": "execute_result"
    }
   ],
   "source": [
    "# Pattern 8\n",
    "\n",
    "def pattern8(n):\n",
    "    for i in range((2*n)-1):\n",
    "        if i <= n:\n",
    "            for j in range(i+1):\n",
    "                print(\"*\", end='')\n",
    "            print(\"\\n\")\n",
    "        if i > n:\n",
    "            for j in range((2*n)-i):\n",
    "                print(\"*\", end='')\n",
    "            print(\"\\n\") \n",
    "    return 0\n",
    "\n",
    "n = 5\n",
    "pattern8(n)"
   ]
  }
 ],
 "metadata": {
  "kernelspec": {
   "display_name": "Python 3",
   "language": "python",
   "name": "python3"
  },
  "language_info": {
   "codemirror_mode": {
    "name": "ipython",
    "version": 3
   },
   "file_extension": ".py",
   "mimetype": "text/x-python",
   "name": "python",
   "nbconvert_exporter": "python",
   "pygments_lexer": "ipython3",
   "version": "3.12.3"
  }
 },
 "nbformat": 4,
 "nbformat_minor": 2
}
