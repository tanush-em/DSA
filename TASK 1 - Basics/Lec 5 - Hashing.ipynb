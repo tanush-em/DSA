{
 "cells": [
  {
   "cell_type": "markdown",
   "metadata": {},
   "source": [
    "# Lec 6 - Hashing"
   ]
  },
  {
   "cell_type": "code",
   "execution_count": 5,
   "metadata": {},
   "outputs": [
    {
     "name": "stdout",
     "output_type": "stream",
     "text": [
      "10 - 3\n",
      "5 - 2\n",
      "10 - 3\n",
      "15 - 1\n",
      "10 - 3\n",
      "5 - 2\n"
     ]
    },
    {
     "data": {
      "text/plain": [
       "0"
      ]
     },
     "execution_count": 5,
     "metadata": {},
     "output_type": "execute_result"
    }
   ],
   "source": [
    "# Problem 1\n",
    "# Creating Hash Table or finding no of occurences\n",
    "\n",
    "def createHashTable(arr):\n",
    "    for i in arr:\n",
    "        print(str(i) + \" - \" + str(countOccurences(arr,i)))\n",
    "    return 0\n",
    "\n",
    "def countOccurences(arr, key):\n",
    "    count = 0\n",
    "    for i in arr:\n",
    "        if i == key:\n",
    "            count += 1\n",
    "    return count\n",
    "\n",
    "arr = [10,5,10,15,10,5]\n",
    "createHashTable(arr)\n"
   ]
  },
  {
   "cell_type": "code",
   "execution_count": 10,
   "metadata": {},
   "outputs": [],
   "source": [
    "# Problem 2\n",
    "# Finding max and min occured element in an array\n",
    "\n",
    "def findMinMaxOccurences(arr):\n",
    "    min = 100\n",
    "    max = 0\n",
    "    for i in arr:\n",
    "        if min > countOccurences(arr,i):\n",
    "            min = countOccurences(arr,i)\n",
    "        elif max < countOccurences(arr,i):\n",
    "            max = countOccurences(arr,i)\n",
    "        else: \n",
    "            pass\n",
    "    return min, max\n",
    "\n",
    "def countOccurences(arr, key):\n",
    "    count = 0\n",
    "    for i in arr:\n",
    "        if i == key:\n",
    "            count += 1\n",
    "    return count\n",
    "\n",
    "arr = [10,5,10,15,10,5]\n",
    "min, max = findMinMaxOccurences(arr)\n"
   ]
  }
 ],
 "metadata": {
  "kernelspec": {
   "display_name": "Python 3",
   "language": "python",
   "name": "python3"
  },
  "language_info": {
   "codemirror_mode": {
    "name": "ipython",
    "version": 3
   },
   "file_extension": ".py",
   "mimetype": "text/x-python",
   "name": "python",
   "nbconvert_exporter": "python",
   "pygments_lexer": "ipython3",
   "version": "3.12.3"
  }
 },
 "nbformat": 4,
 "nbformat_minor": 2
}
